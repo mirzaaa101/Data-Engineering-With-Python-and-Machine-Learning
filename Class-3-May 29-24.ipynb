{
 "cells": [
  {
   "cell_type": "markdown",
   "id": "6c3ed64a-2b63-4e53-a6df-e8cf3ec6c42e",
   "metadata": {},
   "source": [
    "### List Comprehension"
   ]
  },
  {
   "cell_type": "code",
   "execution_count": 1,
   "id": "22e97844-4a1c-4b0b-8b7e-8c7acff54cc1",
   "metadata": {},
   "outputs": [
    {
     "data": {
      "text/plain": [
       "[1, 4, 9, 16, 25]"
      ]
     },
     "execution_count": 1,
     "metadata": {},
     "output_type": "execute_result"
    }
   ],
   "source": [
    "# [expression for expression in list]\n",
    "\n",
    "my_list = [1,2,3,4,5]\n",
    "\n",
    "updated_list = [x**2 for x in my_list]\n",
    "updated_list"
   ]
  },
  {
   "cell_type": "code",
   "execution_count": 2,
   "id": "57d26055-af6b-4e44-8f5c-220e780d6319",
   "metadata": {},
   "outputs": [
    {
     "data": {
      "text/plain": [
       "[4, 16]"
      ]
     },
     "execution_count": 2,
     "metadata": {},
     "output_type": "execute_result"
    }
   ],
   "source": [
    "updated_list = [x**2 for x in my_list if x%2==0]\n",
    "updated_list"
   ]
  },
  {
   "cell_type": "code",
   "execution_count": 6,
   "id": "10d3d5d7-a6f2-4b44-a41b-62793dc2c887",
   "metadata": {},
   "outputs": [
    {
     "data": {
      "text/plain": [
       "array([16])"
      ]
     },
     "execution_count": 6,
     "metadata": {},
     "output_type": "execute_result"
    }
   ],
   "source": [
    "import numpy as np\n",
    "\n",
    "my_arr = np.array([1,2,3,4])\n",
    "\n",
    "updated_arr = np.array([item**2 for item in my_arr if item%2==0 or item>2 if item**2>10])\n",
    "updated_arr"
   ]
  },
  {
   "cell_type": "markdown",
   "id": "96587b19-549e-415d-a32b-50bdc4c9964e",
   "metadata": {},
   "source": [
    "### SET"
   ]
  },
  {
   "cell_type": "code",
   "execution_count": 11,
   "id": "644ba873-d6b5-4afb-8126-9b82696cad60",
   "metadata": {},
   "outputs": [],
   "source": [
    "set_1 = {1,2,3,4,5,5,6,7,7}\n",
    "set_2 = {10,11,7}"
   ]
  },
  {
   "cell_type": "code",
   "execution_count": 12,
   "id": "e8e329ab-e3ca-4147-9158-806e1993a1aa",
   "metadata": {},
   "outputs": [
    {
     "data": {
      "text/plain": [
       "{1, 2, 3, 4, 5, 6, 7, 10, 11}"
      ]
     },
     "execution_count": 12,
     "metadata": {},
     "output_type": "execute_result"
    }
   ],
   "source": [
    "set_1.union(set_2)"
   ]
  },
  {
   "cell_type": "code",
   "execution_count": 13,
   "id": "fa8d9be1-33ee-4829-9702-dc74e592397c",
   "metadata": {},
   "outputs": [
    {
     "data": {
      "text/plain": [
       "{7}"
      ]
     },
     "execution_count": 13,
     "metadata": {},
     "output_type": "execute_result"
    }
   ],
   "source": [
    "set_1.intersection(set_2)"
   ]
  },
  {
   "cell_type": "code",
   "execution_count": 14,
   "id": "3edba4e0-344a-47b5-a312-fcea5a724297",
   "metadata": {},
   "outputs": [
    {
     "data": {
      "text/plain": [
       "{1, 2, 3, 4, 5, 6}"
      ]
     },
     "execution_count": 14,
     "metadata": {},
     "output_type": "execute_result"
    }
   ],
   "source": [
    "set_1.difference(set_2)"
   ]
  },
  {
   "cell_type": "code",
   "execution_count": 15,
   "id": "e0977358-52e9-4917-85c5-b523e0e56b26",
   "metadata": {},
   "outputs": [
    {
     "data": {
      "text/plain": [
       "False"
      ]
     },
     "execution_count": 15,
     "metadata": {},
     "output_type": "execute_result"
    }
   ],
   "source": [
    "set_1.issubset(set_2)"
   ]
  },
  {
   "cell_type": "code",
   "execution_count": 16,
   "id": "422257a0-06c5-4fea-893c-2e386702ea65",
   "metadata": {},
   "outputs": [
    {
     "data": {
      "text/plain": [
       "False"
      ]
     },
     "execution_count": 16,
     "metadata": {},
     "output_type": "execute_result"
    }
   ],
   "source": [
    "set_1.issuperset(set_2)"
   ]
  },
  {
   "cell_type": "code",
   "execution_count": 22,
   "id": "e31291e3-f47b-4215-8027-87e859e06ac4",
   "metadata": {},
   "outputs": [
    {
     "data": {
      "text/plain": [
       "{1, 2, 3, 4, 5}"
      ]
     },
     "execution_count": 22,
     "metadata": {},
     "output_type": "execute_result"
    }
   ],
   "source": [
    "my_list = [1,2,2,5,2,4,4,3,2,5]\n",
    "my_set = set(my_list)\n",
    "my_set"
   ]
  }
 ],
 "metadata": {
  "kernelspec": {
   "display_name": "Python 3 (ipykernel)",
   "language": "python",
   "name": "python3"
  },
  "language_info": {
   "codemirror_mode": {
    "name": "ipython",
    "version": 3
   },
   "file_extension": ".py",
   "mimetype": "text/x-python",
   "name": "python",
   "nbconvert_exporter": "python",
   "pygments_lexer": "ipython3",
   "version": "3.12.4"
  }
 },
 "nbformat": 4,
 "nbformat_minor": 5
}
