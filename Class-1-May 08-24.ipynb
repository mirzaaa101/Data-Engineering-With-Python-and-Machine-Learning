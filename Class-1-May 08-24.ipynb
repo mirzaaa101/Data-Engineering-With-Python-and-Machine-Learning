{
 "cells": [
  {
   "cell_type": "markdown",
   "id": "43bbfe87",
   "metadata": {},
   "source": [
    "#### Data Types"
   ]
  },
  {
   "cell_type": "code",
   "execution_count": 2,
   "id": "81813374",
   "metadata": {},
   "outputs": [
    {
     "name": "stdout",
     "output_type": "stream",
     "text": [
      "Enter a int:12\n"
     ]
    },
    {
     "data": {
      "text/plain": [
       "12"
      ]
     },
     "execution_count": 2,
     "metadata": {},
     "output_type": "execute_result"
    }
   ],
   "source": [
    "a_int = input(\"Enter a int:\")\n",
    "a_int1 = int(a_int)\n",
    "a_int1"
   ]
  },
  {
   "cell_type": "code",
   "execution_count": 1,
   "id": "07ba4017",
   "metadata": {},
   "outputs": [
    {
     "data": {
      "text/plain": [
       "['Mirza', 'Abbas', 'Uddin']"
      ]
     },
     "execution_count": 1,
     "metadata": {},
     "output_type": "execute_result"
    }
   ],
   "source": [
    "a_string = \"Mirza Abbas Uddin\"\n",
    "a_string.split()"
   ]
  },
  {
   "cell_type": "code",
   "execution_count": 3,
   "id": "db7ad2c1",
   "metadata": {},
   "outputs": [
    {
     "data": {
      "text/plain": [
       "'r'"
      ]
     },
     "execution_count": 3,
     "metadata": {},
     "output_type": "execute_result"
    }
   ],
   "source": [
    "a_string[2]"
   ]
  },
  {
   "cell_type": "code",
   "execution_count": 4,
   "id": "86942a60",
   "metadata": {},
   "outputs": [
    {
     "data": {
      "text/plain": [
       "'niddU sabbA azriM'"
      ]
     },
     "execution_count": 4,
     "metadata": {},
     "output_type": "execute_result"
    }
   ],
   "source": [
    "a_string[::-1]"
   ]
  },
  {
   "cell_type": "code",
   "execution_count": 7,
   "id": "768f177d",
   "metadata": {},
   "outputs": [
    {
     "data": {
      "text/plain": [
       "'ndUsbAarM'"
      ]
     },
     "execution_count": 7,
     "metadata": {},
     "output_type": "execute_result"
    }
   ],
   "source": [
    "a_string[::-2]"
   ]
  },
  {
   "cell_type": "code",
   "execution_count": 5,
   "id": "00956aec",
   "metadata": {},
   "outputs": [
    {
     "data": {
      "text/plain": [
       "'Mirza Abbas Uddi'"
      ]
     },
     "execution_count": 5,
     "metadata": {},
     "output_type": "execute_result"
    }
   ],
   "source": [
    "a_string[:-1]"
   ]
  },
  {
   "cell_type": "code",
   "execution_count": 6,
   "id": "79c0df93",
   "metadata": {},
   "outputs": [
    {
     "name": "stdout",
     "output_type": "stream",
     "text": [
      "data count is 10\n"
     ]
    }
   ],
   "source": [
    "a_number = 10\n",
    "print(f\"data count is {a_number}\")"
   ]
  },
  {
   "cell_type": "code",
   "execution_count": 17,
   "id": "5a51b00d",
   "metadata": {},
   "outputs": [
    {
     "data": {
      "text/plain": [
       "'1'"
      ]
     },
     "execution_count": 17,
     "metadata": {},
     "output_type": "execute_result"
    }
   ],
   "source": [
    "a = \"150\"\n",
    "a.replace(\"50\",\"\")"
   ]
  },
  {
   "cell_type": "markdown",
   "id": "a2fb847e",
   "metadata": {},
   "source": [
    "#### Conditions"
   ]
  },
  {
   "cell_type": "code",
   "execution_count": 19,
   "id": "8e866b42",
   "metadata": {},
   "outputs": [
    {
     "name": "stdout",
     "output_type": "stream",
     "text": [
      "Enter a number:47\n",
      "None\n"
     ]
    }
   ],
   "source": [
    "a = int(input(\"Enter a number:\"))\n",
    "\n",
    "if a%3==0:\n",
    "    print(\"Mod 3\")\n",
    "elif a%5==0:\n",
    "    print(\"Mod 5\")\n",
    "else:\n",
    "    print(\"None\")"
   ]
  },
  {
   "cell_type": "code",
   "execution_count": 24,
   "id": "aaf9ebb0",
   "metadata": {},
   "outputs": [
    {
     "name": "stdout",
     "output_type": "stream",
     "text": [
      "Enter a number:15\n",
      "Mod 3 and 5\n"
     ]
    }
   ],
   "source": [
    "a = int(input(\"Enter a number:\"))\n",
    "\n",
    "if a%3==0 and a%5==0:\n",
    "    print(\"Mod 3 and 5\")\n",
    "else:\n",
    "    print(\"None\")"
   ]
  },
  {
   "cell_type": "code",
   "execution_count": null,
   "id": "8aed3544",
   "metadata": {},
   "outputs": [],
   "source": []
  }
 ],
 "metadata": {
  "kernelspec": {
   "display_name": "Python 3 (ipykernel)",
   "language": "python",
   "name": "python3"
  },
  "language_info": {
   "codemirror_mode": {
    "name": "ipython",
    "version": 3
   },
   "file_extension": ".py",
   "mimetype": "text/x-python",
   "name": "python",
   "nbconvert_exporter": "python",
   "pygments_lexer": "ipython3",
   "version": "3.9.13"
  }
 },
 "nbformat": 4,
 "nbformat_minor": 5
}
